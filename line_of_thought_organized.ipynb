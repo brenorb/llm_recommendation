{
 "cells": [
  {
   "cell_type": "markdown",
   "metadata": {},
   "source": [
    "# AIML Engineer Take-Home Project\n"
   ]
  },
  {
   "cell_type": "markdown",
   "metadata": {},
   "source": [
    "## Exercise Info and Requirements"
   ]
  },
  {
   "cell_type": "markdown",
   "metadata": {},
   "source": [
    "### Objective\n",
    "You are tasked with building a recommendation system using a provided public dataset,\n",
    "focusing on both classical recommendation models and modern LLM-based approaches.\n"
   ]
  },
  {
   "cell_type": "markdown",
   "metadata": {},
   "source": [
    "### Project Requirements\n",
    "Package your application as a service using a suitable framework, e.g. FastAPI or Flask. We\n",
    "are intentionally not being prescriptive here, but do your best to demonstrate your\n",
    "understanding of best practices when building your solution.\n",
    "1. Dataset\n",
    "  - Use the [Anime Recommendations Database from Kaggle](https://www.kaggle.com/datasets/CooperUnion/anime-recommendations-database). This dataset contains\n",
    "information on various anime, including user ratings, genres, and other relevant\n",
    "attributes.\n",
    "2. Data Endpoint\n",
    "  - Your service should have an API endpoint to query the dataset\n",
    "3. Classical Recommendation System\n",
    "  - Build a recommendation system that utilizes the dataset to suggest top k anime\n",
    "for a user based on their viewing history and preferences.\n",
    "  - Ensure that the recommendation logic excludes recently viewed items (e.g.,\n",
    "anime watched within the last 7 days).\n",
    "4. Contextual LLM-Based Personalization\n",
    "  - Implement a feature where users can get personalized anime recommendations\n",
    "based on a natural language description of their current mood or preferences\n",
    "(e.g., \"I want something uplifting and adventurous\").\n",
    "\n"
   ]
  },
  {
   "cell_type": "markdown",
   "metadata": {},
   "source": [
    "\n",
    "### Submission\n",
    "Submit a single .zip file that includes:\n",
    "- all source code\n",
    "- A System Design doc\n",
    "\n",
    "  - Provide a document (e.g. `SYSTEM_DESIGN.md`) that explains your choices and\n",
    "the architecture.\n",
    "  - Discuss how you would extend the current system to make it more accurate in\n",
    "response to more “vague” user input\n",
    "  - Include recommendations of how to transition this to an LLM deployed in-house\n",
    "- A Presentation Slide Deck to present your project for 30 mins in during a panel interview\n",
    "  - Can include information from the System Design doc"
   ]
  },
  {
   "cell_type": "markdown",
   "metadata": {},
   "source": [
    "## Exercise"
   ]
  },
  {
   "cell_type": "code",
   "execution_count": null,
   "metadata": {},
   "outputs": [],
   "source": [
    "# !pip install pandas\n",
    "# !pip install numpy\n",
    "# # !pip install seaborn\n",
    "# !pip install scikit-learn\n"
   ]
  },
  {
   "cell_type": "markdown",
   "metadata": {},
   "source": [
    "### First ideas\n",
    "\n",
    "My first idea is to use `NMF`, but let's first find out the current state of the art (SOTA) for recommender systems.\n",
    "\n",
    "#### Current state of the art\n",
    "\n",
    "There is not a single best algorithm for recommender systems. Solutions for the Netflix Prize include[^1][^2]:\n",
    "- Decomposition models (SVD, NMF, SVD++, etc.)\n",
    "- RBM\n",
    "- Decision Tree-based methods (Gradient Boosted Decision Trees, etc.)\n",
    "- Neural Networks\n",
    "- SVM\n",
    "\n",
    "Also, it is common to use a blend of models, like BellKor Solution to the Netflix Grand Prize[^3], which makes sense as many models tend to improve with ensemble methods.\n",
    "\n",
    "#### Way to go\n",
    "\n",
    "Considering this and the escope of this project, I will test simple models.\n",
    "\n",
    "\n",
    "[^1]: Stephen Gower. [Netflix Prize and SVD](http://buzzard.ups.edu/courses/2014spring/420projects/math420-UPS-spring-2014-gower-netflix-SVD.pdf). April 18th 2014 \n",
    "\n",
    "[^2]: [Netflix Recommendations: Beyond the 5 stars (Part 2)](https://netflixtechblog.com/netflix-recommendations-beyond-the-5-stars-part-2-d9b96aa399f5)\n",
    "\n",
    "[^3]: [The BellKor Solution to the Netflix Grand Prize](https://www2.seas.gwu.edu/~simhaweb/champalg/cf/papers/KorenBellKor2009.pdf)\n",
    "\n",
    "Considering this and the escope of this project, I will use the NMF algorithm."
   ]
  },
  {
   "cell_type": "markdown",
   "metadata": {},
   "source": [
    "### Feature engineering\n",
    "\n",
    "Some ideas of features to be used in the model:\n",
    "- User's movie ratings\n",
    "- User's movie watching history\n",
    "- User's movie type history\n",
    "- User's movie episode size\n",
    "- Movie's average rating\n",
    "- Movie's popularity"
   ]
  },
  {
   "cell_type": "code",
   "execution_count": 1,
   "metadata": {},
   "outputs": [],
   "source": [
    "# import numpy as np\n",
    "# import pandas as pd\n",
    "# import matplotlib.pyplot as plt\n",
    "# from sklearn.metrics import mean_squared_error\n",
    "# from sklearn.model_selection import train_test_split\n",
    "# from sklearn.pipeline import Pipeline\n",
    "# from sklearn.linear_model import LinearRegression\n",
    "\n",
    "from utils import *"
   ]
  },
  {
   "cell_type": "code",
   "execution_count": 3,
   "metadata": {},
   "outputs": [],
   "source": [
    "ratings, anime = preprocess_data(RATINGS_PATH, ANIME_PATH)"
   ]
  },
  {
   "cell_type": "code",
   "execution_count": 5,
   "metadata": {},
   "outputs": [
    {
     "name": "stdout",
     "output_type": "stream",
     "text": [
      "NMF components (w1 and h1) have been saved to 'data/nmf_components.pkl'\n"
     ]
    }
   ],
   "source": [
    "rated = ratings[ratings.rating != -1]\n",
    "w1, h1, user_item_matrix = nmf(rated.iloc[0:1000], redo=True)"
   ]
  },
  {
   "cell_type": "code",
   "execution_count": 10,
   "metadata": {},
   "outputs": [],
   "source": [
    "from utils import recommend\n"
   ]
  }
 ],
 "metadata": {
  "kernelspec": {
   "display_name": "Python 3 (ipykernel)",
   "language": "python",
   "name": "python3"
  },
  "language_info": {
   "codemirror_mode": {
    "name": "ipython",
    "version": 3
   },
   "file_extension": ".py",
   "mimetype": "text/x-python",
   "name": "python",
   "nbconvert_exporter": "python",
   "pygments_lexer": "ipython3",
   "version": "3.9.6"
  }
 },
 "nbformat": 4,
 "nbformat_minor": 2
}
